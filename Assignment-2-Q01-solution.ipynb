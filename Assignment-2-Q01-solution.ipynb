{
 "cells": [
  {
   "cell_type": "code",
   "execution_count": 24,
   "id": "215c6bd9-99f6-4cf3-bd39-3b8e6e5663ee",
   "metadata": {},
   "outputs": [
    {
     "data": {
      "text/plain": [
       "'Q1. How do you comment code in Python? What are the different types of comments?'"
      ]
     },
     "execution_count": 24,
     "metadata": {},
     "output_type": "execute_result"
    }
   ],
   "source": [
    "\"\"\"Q1. How do you comment code in Python? What are the different types of comments?\"\"\""
   ]
  },
  {
   "cell_type": "code",
   "execution_count": 2,
   "id": "23dfdac9-2012-4946-b87a-574ab54ef1ae",
   "metadata": {},
   "outputs": [],
   "source": [
    "#solution"
   ]
  },
  {
   "cell_type": "code",
   "execution_count": 8,
   "id": "61ecd26b-b408-43d9-88ac-304be5f2798c",
   "metadata": {},
   "outputs": [],
   "source": [
    "# In python we use '#' to comment a single line code and for multiple line comment we use ' \"\"\" '"
   ]
  },
  {
   "cell_type": "code",
   "execution_count": 9,
   "id": "83c3a58c-0cc5-4c99-82d6-9796ec610b75",
   "metadata": {},
   "outputs": [],
   "source": [
    "# example:"
   ]
  },
  {
   "cell_type": "code",
   "execution_count": 11,
   "id": "9c1252ed-391d-4eec-bff8-2aef63bc2371",
   "metadata": {},
   "outputs": [
    {
     "name": "stdout",
     "output_type": "stream",
     "text": [
      "hello\n"
     ]
    }
   ],
   "source": [
    "#this is a comment\n",
    "print(\"hello\")"
   ]
  },
  {
   "cell_type": "code",
   "execution_count": 5,
   "id": "e29ee9f1-b30c-4445-ad1e-e0c124629934",
   "metadata": {},
   "outputs": [],
   "source": [
    "# there are two types of comments avalible in python"
   ]
  },
  {
   "cell_type": "code",
   "execution_count": 6,
   "id": "f0f317a8-f5ac-4c3c-9416-89f188d93935",
   "metadata": {},
   "outputs": [],
   "source": [
    "# 1. single line comments"
   ]
  },
  {
   "cell_type": "code",
   "execution_count": 16,
   "id": "1e46b290-26e8-495c-aeed-be36e2a237fe",
   "metadata": {},
   "outputs": [],
   "source": [
    "#example"
   ]
  },
  {
   "cell_type": "code",
   "execution_count": 15,
   "id": "894cee0c-a951-4eb2-9f47-c287bdc889ed",
   "metadata": {},
   "outputs": [
    {
     "name": "stdout",
     "output_type": "stream",
     "text": [
      "hello\n"
     ]
    }
   ],
   "source": [
    "#this is a comment\n",
    "print(\"hello\")"
   ]
  },
  {
   "cell_type": "code",
   "execution_count": 7,
   "id": "33e46fd7-053a-41ef-a39f-d94f35bcb9eb",
   "metadata": {},
   "outputs": [],
   "source": [
    "# 2. multiple line comments"
   ]
  },
  {
   "cell_type": "code",
   "execution_count": 19,
   "id": "a067bd6d-3d81-4696-8e58-ac457583a1c9",
   "metadata": {},
   "outputs": [],
   "source": [
    "#example"
   ]
  },
  {
   "cell_type": "code",
   "execution_count": 18,
   "id": "5b79562c-0497-40df-8644-720453a57cee",
   "metadata": {},
   "outputs": [
    {
     "data": {
      "text/plain": [
       "'Python will ignore string literals that are not assigned to a variable,\\nwe can add a multiline string (triple quotes) in our code,\\nand place our comment inside it.\\nAs long as the string is not assigned to a variable,\\nPython will read the code, but then ignore it,\\nand you have made a multiline comment '"
      ]
     },
     "execution_count": 18,
     "metadata": {},
     "output_type": "execute_result"
    }
   ],
   "source": [
    "\"\"\"Python will ignore string literals that are not assigned to a variable,\n",
    "we can add a multiline string (triple quotes) in our code,\n",
    "and place our comment inside it.\n",
    "As long as the string is not assigned to a variable,\n",
    "Python will read the code, but then ignore it,\n",
    "and you have made a multiline comment \"\"\""
   ]
  },
  {
   "cell_type": "code",
   "execution_count": 20,
   "id": "26610cf7-adf1-4a96-9483-ab1bb66c3542",
   "metadata": {},
   "outputs": [],
   "source": [
    "#highlight"
   ]
  },
  {
   "cell_type": "code",
   "execution_count": 21,
   "id": "39c4bd44-a242-4f93-b7d2-eaf0c2048128",
   "metadata": {},
   "outputs": [
    {
     "data": {
      "text/plain": [
       "'assignment 1 question 1 is done'"
      ]
     },
     "execution_count": 21,
     "metadata": {},
     "output_type": "execute_result"
    }
   ],
   "source": [
    "\"\"\"assignment 1 question 1 is done\"\"\"        # treated as a comment"
   ]
  },
  {
   "cell_type": "code",
   "execution_count": 22,
   "id": "bf587a5a-cf10-4a81-bd85-2b14347c7b4f",
   "metadata": {},
   "outputs": [],
   "source": [
    "a=\"\"\"assignment 1 question 1 is done\"\"\"      #not a comment if u assign it "
   ]
  },
  {
   "cell_type": "code",
   "execution_count": 23,
   "id": "6a9003e9-756d-4b6f-9eaa-683d1f5f406d",
   "metadata": {},
   "outputs": [
    {
     "data": {
      "text/plain": [
       "'assignment 1 question 1 is done'"
      ]
     },
     "execution_count": 23,
     "metadata": {},
     "output_type": "execute_result"
    }
   ],
   "source": [
    "a"
   ]
  },
  {
   "cell_type": "code",
   "execution_count": null,
   "id": "c61e29e9-8f96-4308-9267-36c9b799079b",
   "metadata": {},
   "outputs": [],
   "source": []
  }
 ],
 "metadata": {
  "kernelspec": {
   "display_name": "Python 3 (ipykernel)",
   "language": "python",
   "name": "python3"
  },
  "language_info": {
   "codemirror_mode": {
    "name": "ipython",
    "version": 3
   },
   "file_extension": ".py",
   "mimetype": "text/x-python",
   "name": "python",
   "nbconvert_exporter": "python",
   "pygments_lexer": "ipython3",
   "version": "3.10.8"
  }
 },
 "nbformat": 4,
 "nbformat_minor": 5
}
