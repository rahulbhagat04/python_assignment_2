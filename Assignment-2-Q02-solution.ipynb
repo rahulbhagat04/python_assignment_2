{
 "cells": [
  {
   "cell_type": "code",
   "execution_count": 1,
   "id": "143cca70-8f21-43cf-9d99-5492ca33cd6b",
   "metadata": {},
   "outputs": [],
   "source": [
    "#Q2. What are variables in Python? How do you declare and assign values to variables?"
   ]
  },
  {
   "cell_type": "code",
   "execution_count": 2,
   "id": "c5a47266-94ad-4971-8688-3652dfd4ce8e",
   "metadata": {},
   "outputs": [],
   "source": [
    "# variables are the containers for storing the data values"
   ]
  },
  {
   "cell_type": "code",
   "execution_count": 3,
   "id": "9b71268e-18d4-40a6-80fb-87f6222a59aa",
   "metadata": {},
   "outputs": [],
   "source": [
    "#declaration AND assignment of variable"
   ]
  },
  {
   "cell_type": "code",
   "execution_count": 4,
   "id": "afea531a-2461-4c22-97e0-7a12c2d03a7d",
   "metadata": {},
   "outputs": [],
   "source": [
    "# Python has no command for declaring a variable.\n",
    "# A variable is created the moment you first assign a value to it.\n",
    "# A Variables do not need to be declared with any particular type, and can even change type after they have been set."
   ]
  },
  {
   "cell_type": "code",
   "execution_count": 6,
   "id": "d69594a6-6883-4346-beec-405ea6252e9f",
   "metadata": {},
   "outputs": [],
   "source": [
    "#for example\n",
    "a=\"thanks\" #here a is the variable"
   ]
  },
  {
   "cell_type": "code",
   "execution_count": 7,
   "id": "224e6092-0ef9-4783-9657-433d547b5258",
   "metadata": {},
   "outputs": [
    {
     "data": {
      "text/plain": [
       "'thanks'"
      ]
     },
     "execution_count": 7,
     "metadata": {},
     "output_type": "execute_result"
    }
   ],
   "source": [
    "a"
   ]
  },
  {
   "cell_type": "code",
   "execution_count": null,
   "id": "1178790e-9b7a-4bda-bec4-d8432dafaee1",
   "metadata": {},
   "outputs": [],
   "source": []
  }
 ],
 "metadata": {
  "kernelspec": {
   "display_name": "Python 3 (ipykernel)",
   "language": "python",
   "name": "python3"
  },
  "language_info": {
   "codemirror_mode": {
    "name": "ipython",
    "version": 3
   },
   "file_extension": ".py",
   "mimetype": "text/x-python",
   "name": "python",
   "nbconvert_exporter": "python",
   "pygments_lexer": "ipython3",
   "version": "3.10.8"
  }
 },
 "nbformat": 4,
 "nbformat_minor": 5
}
