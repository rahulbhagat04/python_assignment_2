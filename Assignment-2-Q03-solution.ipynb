{
 "cells": [
  {
   "cell_type": "code",
   "execution_count": 1,
   "id": "8d098281-b898-4828-9af4-7cfb98c9d27f",
   "metadata": {},
   "outputs": [],
   "source": [
    "#Q3. How do you convert one data type to another in Python?"
   ]
  },
  {
   "cell_type": "code",
   "execution_count": 2,
   "id": "aa358ab4-2dcd-479e-8c31-ab38f7b2e73c",
   "metadata": {},
   "outputs": [],
   "source": [
    "# Casting in python is done using inbuild functions:"
   ]
  },
  {
   "cell_type": "code",
   "execution_count": null,
   "id": "18aa32f4-a03b-4c9d-b6c9-fa259c66c1a1",
   "metadata": {},
   "outputs": [],
   "source": [
    "#INBUILT FUNCTIONS ARE :"
   ]
  },
  {
   "cell_type": "code",
   "execution_count": 3,
   "id": "c363c669-56f6-47c6-9eed-c12bfed51ffb",
   "metadata": {},
   "outputs": [],
   "source": [
    "# int() - \n",
    "# Constructs an \n",
    "#    - integer number from an integer literal,\n",
    "#    - float literal (by removing all decimals),\n",
    "#    - string literal (providing the string represents a whole number)"
   ]
  },
  {
   "cell_type": "code",
   "execution_count": 4,
   "id": "97ee5b5e-36c5-4d08-aa75-ab7b6b90d5ff",
   "metadata": {},
   "outputs": [],
   "source": [
    "# float() - \n",
    "# Constructs a \n",
    "#    - float number from an integer literal, \n",
    "#    - float literal or a string literal (providing the string represents a float or an integer)"
   ]
  },
  {
   "cell_type": "code",
   "execution_count": 5,
   "id": "8b8090c6-0209-4c04-8c9d-36ba47e17f03",
   "metadata": {},
   "outputs": [],
   "source": [
    "# str() - \n",
    "# Constructs a \n",
    "#    -string from a wide variety of data types, including strings, integer literals and float literals"
   ]
  },
  {
   "cell_type": "code",
   "execution_count": 6,
   "id": "55f5b685-fddc-4feb-bbbc-74c69de1e9d1",
   "metadata": {},
   "outputs": [],
   "source": [
    "#EXAMPLES"
   ]
  },
  {
   "cell_type": "code",
   "execution_count": 8,
   "id": "edadafc6-c84b-44b2-b0a3-fa5a00a4e911",
   "metadata": {},
   "outputs": [],
   "source": [
    "a=54.6"
   ]
  },
  {
   "cell_type": "code",
   "execution_count": 10,
   "id": "6441a530-3071-4516-aebf-8773bc68fd2d",
   "metadata": {},
   "outputs": [
    {
     "data": {
      "text/plain": [
       "54.6"
      ]
     },
     "execution_count": 10,
     "metadata": {},
     "output_type": "execute_result"
    }
   ],
   "source": [
    "a"
   ]
  },
  {
   "cell_type": "code",
   "execution_count": 11,
   "id": "4cb61bba-f09e-46a5-8524-e675d2aecf26",
   "metadata": {},
   "outputs": [
    {
     "data": {
      "text/plain": [
       "float"
      ]
     },
     "execution_count": 11,
     "metadata": {},
     "output_type": "execute_result"
    }
   ],
   "source": [
    "type(a)"
   ]
  },
  {
   "cell_type": "code",
   "execution_count": 13,
   "id": "230afcb3-ca5d-43db-be45-d23501b43352",
   "metadata": {},
   "outputs": [],
   "source": [
    "b=int(a)"
   ]
  },
  {
   "cell_type": "code",
   "execution_count": 14,
   "id": "f40f8f7c-2417-4f7c-ba35-3c73289f1e4c",
   "metadata": {},
   "outputs": [
    {
     "name": "stdout",
     "output_type": "stream",
     "text": [
      "54\n"
     ]
    }
   ],
   "source": [
    "print(b)"
   ]
  },
  {
   "cell_type": "code",
   "execution_count": 15,
   "id": "614f2248-03ff-40d7-80bd-6cf64a3c6d02",
   "metadata": {},
   "outputs": [
    {
     "data": {
      "text/plain": [
       "int"
      ]
     },
     "execution_count": 15,
     "metadata": {},
     "output_type": "execute_result"
    }
   ],
   "source": [
    "type(b)"
   ]
  },
  {
   "cell_type": "code",
   "execution_count": 16,
   "id": "73b96114-9707-47e8-94ae-0df3058dceb7",
   "metadata": {},
   "outputs": [],
   "source": [
    "c=str(b)"
   ]
  },
  {
   "cell_type": "code",
   "execution_count": 17,
   "id": "f6eec2ca-f4d2-4276-9074-4b40efa306d3",
   "metadata": {},
   "outputs": [
    {
     "name": "stdout",
     "output_type": "stream",
     "text": [
      "54\n"
     ]
    }
   ],
   "source": [
    "print(c)"
   ]
  },
  {
   "cell_type": "code",
   "execution_count": 18,
   "id": "0865ae89-0a96-4d35-8c14-72fd211a4a5d",
   "metadata": {},
   "outputs": [
    {
     "data": {
      "text/plain": [
       "str"
      ]
     },
     "execution_count": 18,
     "metadata": {},
     "output_type": "execute_result"
    }
   ],
   "source": [
    "type(c)"
   ]
  },
  {
   "cell_type": "code",
   "execution_count": 19,
   "id": "9c8c5ceb-cc95-4b83-baad-5d9af90a14b5",
   "metadata": {},
   "outputs": [],
   "source": [
    "d=float(c)"
   ]
  },
  {
   "cell_type": "code",
   "execution_count": 20,
   "id": "3a7d3a3f-e73e-4f9a-a6e8-6c1b8ba2cb47",
   "metadata": {},
   "outputs": [
    {
     "name": "stdout",
     "output_type": "stream",
     "text": [
      "54.0\n"
     ]
    }
   ],
   "source": [
    "print(d)"
   ]
  },
  {
   "cell_type": "code",
   "execution_count": 21,
   "id": "30dca863-9b0d-477c-8911-f99f4c968212",
   "metadata": {},
   "outputs": [
    {
     "data": {
      "text/plain": [
       "float"
      ]
     },
     "execution_count": 21,
     "metadata": {},
     "output_type": "execute_result"
    }
   ],
   "source": [
    "type(d)"
   ]
  },
  {
   "cell_type": "code",
   "execution_count": null,
   "id": "2394937b-a700-4959-9ffd-487e4c535a93",
   "metadata": {},
   "outputs": [],
   "source": []
  }
 ],
 "metadata": {
  "kernelspec": {
   "display_name": "Python 3 (ipykernel)",
   "language": "python",
   "name": "python3"
  },
  "language_info": {
   "codemirror_mode": {
    "name": "ipython",
    "version": 3
   },
   "file_extension": ".py",
   "mimetype": "text/x-python",
   "name": "python",
   "nbconvert_exporter": "python",
   "pygments_lexer": "ipython3",
   "version": "3.10.8"
  }
 },
 "nbformat": 4,
 "nbformat_minor": 5
}
