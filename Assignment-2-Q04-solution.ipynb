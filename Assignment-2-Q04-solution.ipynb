{
 "cells": [
  {
   "cell_type": "code",
   "execution_count": 1,
   "id": "6c6f382e-35d7-4062-95cc-d3feaccd5d36",
   "metadata": {},
   "outputs": [],
   "source": [
    "#Q4. How do you write and execute a Python script from the command line?"
   ]
  },
  {
   "cell_type": "code",
   "execution_count": 1,
   "id": "c82b6f9e-2642-4b69-b3d0-2466489c2375",
   "metadata": {},
   "outputs": [],
   "source": [
    "# To write and execute a Python script from the command line, follow these steps:"
   ]
  },
  {
   "cell_type": "code",
   "execution_count": 2,
   "id": "0db115d7-58d2-461b-a1dd-c39e7b2ed74a",
   "metadata": {},
   "outputs": [],
   "source": [
    "# 1. Open a text editor and create a new file."
   ]
  },
  {
   "cell_type": "code",
   "execution_count": 3,
   "id": "e0195353-353c-4890-bfc7-8ce560a9d65a",
   "metadata": {},
   "outputs": [],
   "source": [
    "# 2. Write your Python code in the text editor"
   ]
  },
  {
   "cell_type": "code",
   "execution_count": 4,
   "id": "90fd45af-cf90-48a9-aae8-21b91f5774b1",
   "metadata": {},
   "outputs": [],
   "source": [
    "# 3. Save the file with a .py extension."
   ]
  },
  {
   "cell_type": "code",
   "execution_count": 5,
   "id": "7c9544ee-f2e1-4abf-ae54-03bcde3abde3",
   "metadata": {},
   "outputs": [],
   "source": [
    "#4. Open a command-line terminal or shell."
   ]
  },
  {
   "cell_type": "code",
   "execution_count": 6,
   "id": "6c1af3ae-4a00-4a0a-a73a-20fa0d4ff188",
   "metadata": {},
   "outputs": [],
   "source": [
    "#5. Navigate to the directory where you saved the Python script using the 'cd' command."
   ]
  },
  {
   "cell_type": "code",
   "execution_count": 8,
   "id": "325f3cdc-6b8b-4e9b-8dd0-b0bb66418f01",
   "metadata": {},
   "outputs": [],
   "source": [
    "#6. Once you are in the correct directory, you can execute the Python script by typing python followed by the script's filename."
   ]
  },
  {
   "cell_type": "code",
   "execution_count": 9,
   "id": "90c5e040-07a3-497d-bda6-0db518f87d44",
   "metadata": {},
   "outputs": [],
   "source": [
    "#7. Press Enter to execute the command, and you should see the output of your Python script in the terminal:"
   ]
  },
  {
   "cell_type": "code",
   "execution_count": null,
   "id": "81826fea-3ef1-4918-95cd-7e0bc7da7f7f",
   "metadata": {},
   "outputs": [],
   "source": []
  }
 ],
 "metadata": {
  "kernelspec": {
   "display_name": "Python 3 (ipykernel)",
   "language": "python",
   "name": "python3"
  },
  "language_info": {
   "codemirror_mode": {
    "name": "ipython",
    "version": 3
   },
   "file_extension": ".py",
   "mimetype": "text/x-python",
   "name": "python",
   "nbconvert_exporter": "python",
   "pygments_lexer": "ipython3",
   "version": "3.10.8"
  }
 },
 "nbformat": 4,
 "nbformat_minor": 5
}
