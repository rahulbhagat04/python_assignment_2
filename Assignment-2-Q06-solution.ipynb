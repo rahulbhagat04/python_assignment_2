{
 "cells": [
  {
   "cell_type": "code",
   "execution_count": 1,
   "id": "ffbb7d46-01b9-4691-8db9-7c3bdf2e680f",
   "metadata": {},
   "outputs": [],
   "source": [
    "# Q6. What is a complex number in mathematics, and how is it represented in Python?"
   ]
  },
  {
   "cell_type": "code",
   "execution_count": 2,
   "id": "3464cb32-5b4c-4e32-8e2b-2b48fb5e927b",
   "metadata": {},
   "outputs": [
    {
     "data": {
      "text/plain": [
       "\"Complex numbers are the numbers that are expressed in the form of a+ib where, a,b are real numbers and 'i' is an imaginary number called “iota”. The value of i = (√-1)\""
      ]
     },
     "execution_count": 2,
     "metadata": {},
     "output_type": "execute_result"
    }
   ],
   "source": [
    " \"\"\"Complex numbers are the numbers that are expressed in the form of a+ib where, a,b are real numbers and 'i' is an imaginary number called “iota”. The value of i = (√-1)\"\"\""
   ]
  },
  {
   "cell_type": "code",
   "execution_count": 3,
   "id": "1c15e8d3-6797-4f97-be5d-47813136b897",
   "metadata": {},
   "outputs": [],
   "source": [
    "# IN PYTHON WE REPRESENT COMPLEX NUMBER AS ( a + jb )"
   ]
  },
  {
   "cell_type": "code",
   "execution_count": 4,
   "id": "7a5f6a82-0dd3-4e89-b9e3-d083e34a6096",
   "metadata": {},
   "outputs": [],
   "source": [
    "#where a , b are real number and j is the imaginary number"
   ]
  },
  {
   "cell_type": "code",
   "execution_count": 5,
   "id": "6e5e1575-9f96-48e0-8438-94c0020155fb",
   "metadata": {},
   "outputs": [],
   "source": [
    "# example"
   ]
  },
  {
   "cell_type": "code",
   "execution_count": 6,
   "id": "368b0936-eb51-4223-95dc-3b090e80ed76",
   "metadata": {},
   "outputs": [],
   "source": [
    "a=3 +4j"
   ]
  },
  {
   "cell_type": "code",
   "execution_count": 7,
   "id": "eb9f6c78-77f1-43a7-9151-8621f9a23938",
   "metadata": {},
   "outputs": [
    {
     "data": {
      "text/plain": [
       "complex"
      ]
     },
     "execution_count": 7,
     "metadata": {},
     "output_type": "execute_result"
    }
   ],
   "source": [
    "type(a)"
   ]
  },
  {
   "cell_type": "code",
   "execution_count": 12,
   "id": "c1ee4b32-13f9-4e77-9396-4b9338311b3b",
   "metadata": {},
   "outputs": [],
   "source": [
    "# we can access the real and imaginary part separately"
   ]
  },
  {
   "cell_type": "code",
   "execution_count": 9,
   "id": "acc868e9-03a9-4098-9f9c-48cb0fc8f74b",
   "metadata": {},
   "outputs": [
    {
     "data": {
      "text/plain": [
       "3.0"
      ]
     },
     "execution_count": 9,
     "metadata": {},
     "output_type": "execute_result"
    }
   ],
   "source": [
    "a.real"
   ]
  },
  {
   "cell_type": "code",
   "execution_count": 11,
   "id": "713d905b-b59d-411d-b8ad-c97dbbd0adcb",
   "metadata": {},
   "outputs": [
    {
     "data": {
      "text/plain": [
       "4.0"
      ]
     },
     "execution_count": 11,
     "metadata": {},
     "output_type": "execute_result"
    }
   ],
   "source": [
    "a.imag"
   ]
  },
  {
   "cell_type": "code",
   "execution_count": null,
   "id": "ab2f5137-97c2-48cb-8f49-2d535b6bb4ef",
   "metadata": {},
   "outputs": [],
   "source": []
  }
 ],
 "metadata": {
  "kernelspec": {
   "display_name": "Python 3 (ipykernel)",
   "language": "python",
   "name": "python3"
  },
  "language_info": {
   "codemirror_mode": {
    "name": "ipython",
    "version": 3
   },
   "file_extension": ".py",
   "mimetype": "text/x-python",
   "name": "python",
   "nbconvert_exporter": "python",
   "pygments_lexer": "ipython3",
   "version": "3.10.8"
  }
 },
 "nbformat": 4,
 "nbformat_minor": 5
}
