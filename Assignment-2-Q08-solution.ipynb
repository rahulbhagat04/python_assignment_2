{
 "cells": [
  {
   "cell_type": "code",
   "execution_count": 1,
   "id": "1cfe4462-a160-4b8c-8edd-88afc6e85d6b",
   "metadata": {},
   "outputs": [],
   "source": [
    "# Q8. Declare a variable named price and assign the value 9.99 to it. What data type does this variable\n",
    "#     belong to?"
   ]
  },
  {
   "cell_type": "code",
   "execution_count": 2,
   "id": "076e4228-9b52-43c7-b9e8-6b175a72d8bb",
   "metadata": {},
   "outputs": [],
   "source": [
    "price=9.99   #variable declaration and assignment"
   ]
  },
  {
   "cell_type": "code",
   "execution_count": 4,
   "id": "8c407446-caa1-4a03-8b97-ff915065d25e",
   "metadata": {},
   "outputs": [
    {
     "data": {
      "text/plain": [
       "float"
      ]
     },
     "execution_count": 4,
     "metadata": {},
     "output_type": "execute_result"
    }
   ],
   "source": [
    "type(price)  # we use type() function to know the type of datatype"
   ]
  },
  {
   "cell_type": "code",
   "execution_count": 1,
   "id": "c977a52b-f495-4593-b15a-ace76a2212f5",
   "metadata": {},
   "outputs": [],
   "source": [
    "# therefore price is a float datatype"
   ]
  },
  {
   "cell_type": "code",
   "execution_count": null,
   "id": "c9c45b12-5d5c-43b5-9bfd-53bd2c13fc3f",
   "metadata": {},
   "outputs": [],
   "source": []
  }
 ],
 "metadata": {
  "kernelspec": {
   "display_name": "Python 3 (ipykernel)",
   "language": "python",
   "name": "python3"
  },
  "language_info": {
   "codemirror_mode": {
    "name": "ipython",
    "version": 3
   },
   "file_extension": ".py",
   "mimetype": "text/x-python",
   "name": "python",
   "nbconvert_exporter": "python",
   "pygments_lexer": "ipython3",
   "version": "3.10.8"
  }
 },
 "nbformat": 4,
 "nbformat_minor": 5
}
