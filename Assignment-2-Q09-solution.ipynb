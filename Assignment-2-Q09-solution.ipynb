{
 "cells": [
  {
   "cell_type": "code",
   "execution_count": 1,
   "id": "bc317523-ac26-4b2e-bf69-045ffb369700",
   "metadata": {},
   "outputs": [],
   "source": [
    "# Q9. Create a variable named name and assign your full name to it as a string. How would you print the\n",
    "#     value of this variable?\n"
   ]
  },
  {
   "cell_type": "code",
   "execution_count": 6,
   "id": "9789c718-1f7a-4ae9-8549-6700a3d4aa72",
   "metadata": {},
   "outputs": [],
   "source": [
    "name = \"rahul bhagat\""
   ]
  },
  {
   "cell_type": "code",
   "execution_count": 7,
   "id": "d8b2df69-48ca-4de9-b24c-e069c75e7186",
   "metadata": {},
   "outputs": [
    {
     "data": {
      "text/plain": [
       "str"
      ]
     },
     "execution_count": 7,
     "metadata": {},
     "output_type": "execute_result"
    }
   ],
   "source": [
    "type(name)"
   ]
  },
  {
   "cell_type": "code",
   "execution_count": 13,
   "id": "604addd4-92d6-47c8-8af9-d543b1a05b90",
   "metadata": {},
   "outputs": [],
   "source": [
    "# by using print function we can print the value of the variable"
   ]
  },
  {
   "cell_type": "code",
   "execution_count": 12,
   "id": "d7224bfc-e908-4e2d-a993-20ab44c6c62a",
   "metadata": {},
   "outputs": [
    {
     "data": {
      "text/plain": [
       "'rahul bhagat'"
      ]
     },
     "execution_count": 12,
     "metadata": {},
     "output_type": "execute_result"
    }
   ],
   "source": [
    "name         # this is way to know what data is stored in the variable"
   ]
  },
  {
   "cell_type": "code",
   "execution_count": 11,
   "id": "121c646a-1fc6-46be-b708-b681ff332959",
   "metadata": {},
   "outputs": [
    {
     "name": "stdout",
     "output_type": "stream",
     "text": [
      "rahul bhagat\n"
     ]
    }
   ],
   "source": [
    "print(name)     # this is the way to print the value stored in the variable"
   ]
  },
  {
   "cell_type": "code",
   "execution_count": null,
   "id": "1ee01495-aacf-461b-a6a4-3686f7eb56a1",
   "metadata": {},
   "outputs": [],
   "source": []
  }
 ],
 "metadata": {
  "kernelspec": {
   "display_name": "Python 3 (ipykernel)",
   "language": "python",
   "name": "python3"
  },
  "language_info": {
   "codemirror_mode": {
    "name": "ipython",
    "version": 3
   },
   "file_extension": ".py",
   "mimetype": "text/x-python",
   "name": "python",
   "nbconvert_exporter": "python",
   "pygments_lexer": "ipython3",
   "version": "3.10.8"
  }
 },
 "nbformat": 4,
 "nbformat_minor": 5
}
