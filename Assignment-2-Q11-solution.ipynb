{
 "cells": [
  {
   "cell_type": "code",
   "execution_count": 1,
   "id": "d54a73dd-a2f2-4297-b91f-10176b63252f",
   "metadata": {},
   "outputs": [],
   "source": [
    "# Q11. Create a variable named \"is_student\" and assign it a boolean value indicating whether you are\n",
    "#      currently a student or not."
   ]
  },
  {
   "cell_type": "code",
   "execution_count": 5,
   "id": "c6173bdb-88c5-4da9-96a1-a5071b4ce0d6",
   "metadata": {},
   "outputs": [],
   "source": [
    "is_student= True     #assuming he is a student"
   ]
  },
  {
   "cell_type": "code",
   "execution_count": 3,
   "id": "02020020-bca3-42e6-8d0a-866a785c1b9f",
   "metadata": {},
   "outputs": [
    {
     "data": {
      "text/plain": [
       "bool"
      ]
     },
     "execution_count": 3,
     "metadata": {},
     "output_type": "execute_result"
    }
   ],
   "source": [
    "type(is_student)"
   ]
  },
  {
   "cell_type": "code",
   "execution_count": 4,
   "id": "5d5a50aa-091b-4ff8-ae8b-a6e5cdfd3220",
   "metadata": {},
   "outputs": [
    {
     "data": {
      "text/plain": [
       "True"
      ]
     },
     "execution_count": 4,
     "metadata": {},
     "output_type": "execute_result"
    }
   ],
   "source": [
    "is_student"
   ]
  },
  {
   "cell_type": "code",
   "execution_count": null,
   "id": "e79e2c19-1f78-44f8-bfb0-38019637e3fd",
   "metadata": {},
   "outputs": [],
   "source": []
  }
 ],
 "metadata": {
  "kernelspec": {
   "display_name": "Python 3 (ipykernel)",
   "language": "python",
   "name": "python3"
  },
  "language_info": {
   "codemirror_mode": {
    "name": "ipython",
    "version": 3
   },
   "file_extension": ".py",
   "mimetype": "text/x-python",
   "name": "python",
   "nbconvert_exporter": "python",
   "pygments_lexer": "ipython3",
   "version": "3.10.8"
  }
 },
 "nbformat": 4,
 "nbformat_minor": 5
}
